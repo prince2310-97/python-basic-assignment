{
  "nbformat": 4,
  "nbformat_minor": 0,
  "metadata": {
    "colab": {
      "provenance": []
    },
    "kernelspec": {
      "name": "python3",
      "display_name": "Python 3"
    },
    "language_info": {
      "name": "python"
    }
  },
  "cells": [
    {
      "cell_type": "markdown",
      "source": [],
      "metadata": {
        "id": "wiQRbkbIO__S"
      }
    },
    {
      "cell_type": "markdown",
      "source": [
        " 1.What is Python, and why is it popular ?\n",
        "\n"
      ],
      "metadata": {
        "id": "Yy6GaqhvQqU9"
      }
    },
    {
      "cell_type": "markdown",
      "source": [
        "- Python is a high-level, general-purpose programming language renowned for its simplicity, readability, and versatilit.\n",
        "  - 1. Readable and Beginner-Friendly\n",
        "  - 2. Versatile Across Domains\n",
        "  - 3. Extensive Ecosystem and Community Support\n",
        "  - 4. Cross-Platform Compatibility\n",
        "  -5. Adoption by Major Tech Companies\n"
      ],
      "metadata": {
        "id": "mUmkorKfRdgM"
      }
    },
    {
      "cell_type": "markdown",
      "source": [
        "2.What is an interpreter in Python ?\n",
        "\n",
        " -A Python interpreter is a program that executes Python code by translating it into machine-readable instructions. Unlike compiled languages that convert code into machine language before execution, Python interpreters process code line by line at runtime"
      ],
      "metadata": {
        "id": "CTgfdGYLSewx"
      }
    },
    {
      "cell_type": "markdown",
      "source": [
        "3.What are pre-defined keywords in Python ?\n",
        "\n",
        " - Keywords are reserved words in Python that have predefined meanings and cannot be used as identifiers (variable names, function names, etc.). These keywords are essential parts of the Python language syntax and are used to define the structure and behavior of programs.\n",
        "   there are some keyword with different meaning:\n",
        "   - true / false /non /and/or/not/if/else/break / continue /while /import/is/in.\n"
      ],
      "metadata": {
        "id": "XNWq7IeyTERR"
      }
    },
    {
      "cell_type": "markdown",
      "source": [
        "4. Can keywords be used as variable names ?\n",
        "\n",
        " - No, keywords cannot be used as variable names in most programming languages, including Python. Keywords are reserved words with specific meanings within the language and are used for defining syntax and structure. Trying to use a keyword as a variable name will result in an error.\n",
        "\n",
        "\n"
      ],
      "metadata": {
        "id": "Ycm147FtVkSY"
      }
    },
    {
      "cell_type": "markdown",
      "source": [
        "5.What is mutability in Python ?\n",
        " - Mutability in Python refers to the ability of an object to be modified after it is created. If an object is mutable, its value or state can be changed without creating a new object"
      ],
      "metadata": {
        "id": "1uop8ve5We1Q"
      }
    },
    {
      "cell_type": "markdown",
      "source": [
        "6 Why are lists mutable, but tuples are immutable ?\n",
        "- lists are mutable because you can change the order of items in a list or reassign an item in a list,  tuples use parentheses instead of square brackets, and the items in tuples cannot be modified ."
      ],
      "metadata": {
        "id": "VY0IDaM9W3ph"
      }
    },
    {
      "cell_type": "markdown",
      "source": [
        "7.What is the difference between “==” and “is” operators in Python ?\n",
        "- == (equality operator): Compares the values of two objects. It returns True if the values are equal and False otherwise.\n",
        "\n",
        "- is (identity operator): Compares the identity of two objects. It returns True if the two objects are the same object in memory and False otherwise.\n",
        "\n"
      ],
      "metadata": {
        "id": "MbxzrbinX1cM"
      }
    },
    {
      "cell_type": "markdown",
      "source": [
        "8 . What are logical operators in Python ?\n",
        " - Logical operators in Python are used to combine or modify boolean values (True or False). There are three main logical operators:\n",
        "   - and\n",
        "   - or\n",
        "   - not"
      ],
      "metadata": {
        "id": "A6HGXVGfYhZO"
      }
    },
    {
      "cell_type": "markdown",
      "source": [
        "9 . What is type casting in Python ?\n",
        " - Type casting, also known as type conversion, is the process of changing a variable's data type to another. In Python, this can be done explicitly using built-in functions or implicitly by the interpreter.\n"
      ],
      "metadata": {
        "id": "jw_tdcfjZGGs"
      }
    },
    {
      "cell_type": "markdown",
      "source": [
        "10 . What is the difference between implicit and explicit type casting?\n",
        " - Implicit type casting, also known as widening conversion, is automatically done by the compiler when converting a data type to a larger or more general type.\n",
        "\n",
        " - Explicit type casting, also known as narrowing conversion or type casting, requires the programmer to manually specify the conversion, often when converting to a smaller or more specific type, potentially leading to data loss.  "
      ],
      "metadata": {
        "id": "BmH9cxneZfoT"
      }
    },
    {
      "cell_type": "markdown",
      "source": [
        "11. What is the purpose of conditional statements in Python ?\n",
        "  - Conditional statements in Python are used to execute certain blocks of code based on specific conditions. These statements help control the flow of a program, making it behave differently in different situations.\n"
      ],
      "metadata": {
        "id": "BZv-k376Z-Xv"
      }
    },
    {
      "cell_type": "markdown",
      "source": [
        "12 . How does the elif statement work ?\n",
        "- The “elif” keyword in Python, stands for “else if”. It can be used in conditional statements to check for multiple conditions. For example, if the first condition is false, it moves on to the next “elif” statement to check if that condition is true\n"
      ],
      "metadata": {
        "id": "iyqhNsogaehi"
      }
    },
    {
      "cell_type": "markdown",
      "source": [
        "13 . What is the difference between for and while loops ?\n",
        "\n",
        " - for loops are typically used when the number of iterations is known in advance, often when iterating over a sequence (like a list or array).\n",
        "\n",
        " - while loops, on the other hand, continue executing as long as a specified condition remains true, making them suitable for situations where the number of iterations is not predetermined."
      ],
      "metadata": {
        "id": "XKuPNMaKa97r"
      }
    },
    {
      "cell_type": "markdown",
      "source": [
        "14 .  Describe a scenario where a while loop is more suitable than a for loop?\n",
        "\n",
        "- Use a while loop when the number of iterations is unknown and depends on a condition evaluated during execution.\n",
        "\n",
        "- Use a for loop when you know the number of iterations ahead of time or when iterating over a sequence"
      ],
      "metadata": {
        "id": "90i8F4IYbmWZ"
      }
    },
    {
      "cell_type": "code",
      "source": [
        "# 1 .Write a Python program to print \"Hello, World!?\n",
        "\n",
        "print(\"Hello, World\")\n"
      ],
      "metadata": {
        "colab": {
          "base_uri": "https://localhost:8080/"
        },
        "id": "cnXsg_m1cg-Q",
        "outputId": "46262c64-4605-4183-ccea-c9f474a86def"
      },
      "execution_count": null,
      "outputs": [
        {
          "output_type": "stream",
          "name": "stdout",
          "text": [
            "Hello, World\n"
          ]
        }
      ]
    },
    {
      "cell_type": "code",
      "source": [
        "# 2 Write a Python program that displays your name and age.\n",
        "name = \"Prince\"\n",
        "age = 25\n",
        "print(f\"my name is {name} , age is {age}\")"
      ],
      "metadata": {
        "id": "IVScV2GxdOyC",
        "colab": {
          "base_uri": "https://localhost:8080/"
        },
        "outputId": "1db31520-a1c3-4a11-a27c-f5d6e93ca95e"
      },
      "execution_count": 10,
      "outputs": [
        {
          "output_type": "stream",
          "name": "stdout",
          "text": [
            "my name is Prince , age is 25\n"
          ]
        }
      ]
    },
    {
      "cell_type": "code",
      "source": [
        "#3 Write code to print all the pre-defined keywords in Python using the keyword library\n",
        "\n",
        "import keyword\n",
        "keyword_all =keyword.kwlist\n",
        "\n",
        "print(\"the keywords are: \")\n",
        "for kw in keyword_all:\n",
        "  print(kw)"
      ],
      "metadata": {
        "colab": {
          "base_uri": "https://localhost:8080/"
        },
        "id": "J8GGD-g4fR3e",
        "outputId": "cac17645-f957-47b2-9530-0764015b2bcc"
      },
      "execution_count": 11,
      "outputs": [
        {
          "output_type": "stream",
          "name": "stdout",
          "text": [
            "the keywords are: \n",
            "False\n",
            "None\n",
            "True\n",
            "and\n",
            "as\n",
            "assert\n",
            "async\n",
            "await\n",
            "break\n",
            "class\n",
            "continue\n",
            "def\n",
            "del\n",
            "elif\n",
            "else\n",
            "except\n",
            "finally\n",
            "for\n",
            "from\n",
            "global\n",
            "if\n",
            "import\n",
            "in\n",
            "is\n",
            "lambda\n",
            "nonlocal\n",
            "not\n",
            "or\n",
            "pass\n",
            "raise\n",
            "return\n",
            "try\n",
            "while\n",
            "with\n",
            "yield\n"
          ]
        }
      ]
    },
    {
      "cell_type": "code",
      "source": [
        "#4 Write a program that checks if a given word is a Python keyword.\n",
        "import keyword\n",
        "word = input(\"enter: \")\n",
        "\n",
        "if keyword.iskeyword(word):\n",
        "    print(\"this is a Python keyword.\")\n",
        "else:\n",
        "    print(\"this is not a Python keyword.\")\n"
      ],
      "metadata": {
        "colab": {
          "base_uri": "https://localhost:8080/"
        },
        "id": "T0m-B0hIgLtS",
        "outputId": "263d7bd2-81ec-4054-ea2c-0b2c8e549622"
      },
      "execution_count": 12,
      "outputs": [
        {
          "output_type": "stream",
          "name": "stdout",
          "text": [
            "enter: in\n",
            "this is a Python keyword.\n"
          ]
        }
      ]
    },
    {
      "cell_type": "code",
      "source": [
        "#5. Create a list and tuple in Python, and demonstrate how attempting to change an element works differently for each.\n",
        "#list--------------\n",
        "my_list = [10, 20, 30]\n",
        "my_list[1] = 99\n",
        "\n",
        "print(\"Modified list:\", my_list)\n",
        "\n",
        "#tuple\n",
        "my_tuple = (10, 20, 30)\n",
        "my_tuple[1] = 99\n",
        "\n",
        "print(my_tuple)"
      ],
      "metadata": {
        "colab": {
          "base_uri": "https://localhost:8080/",
          "height": 228
        },
        "id": "Mcqx5Iy7hHqn",
        "outputId": "0f1f8d34-f912-486b-d46b-8472e1053c06"
      },
      "execution_count": 15,
      "outputs": [
        {
          "output_type": "stream",
          "name": "stdout",
          "text": [
            "Modified list: [10, 99, 30]\n"
          ]
        },
        {
          "output_type": "error",
          "ename": "TypeError",
          "evalue": "'tuple' object does not support item assignment",
          "traceback": [
            "\u001b[0;31m---------------------------------------------------------------------------\u001b[0m",
            "\u001b[0;31mTypeError\u001b[0m                                 Traceback (most recent call last)",
            "\u001b[0;32m<ipython-input-15-04564cad6221>\u001b[0m in \u001b[0;36m<cell line: 0>\u001b[0;34m()\u001b[0m\n\u001b[1;32m      8\u001b[0m \u001b[0;31m#tuple\u001b[0m\u001b[0;34m\u001b[0m\u001b[0;34m\u001b[0m\u001b[0m\n\u001b[1;32m      9\u001b[0m \u001b[0mmy_tuple\u001b[0m \u001b[0;34m=\u001b[0m \u001b[0;34m(\u001b[0m\u001b[0;36m10\u001b[0m\u001b[0;34m,\u001b[0m \u001b[0;36m20\u001b[0m\u001b[0;34m,\u001b[0m \u001b[0;36m30\u001b[0m\u001b[0;34m)\u001b[0m\u001b[0;34m\u001b[0m\u001b[0;34m\u001b[0m\u001b[0m\n\u001b[0;32m---> 10\u001b[0;31m \u001b[0mmy_tuple\u001b[0m\u001b[0;34m[\u001b[0m\u001b[0;36m1\u001b[0m\u001b[0;34m]\u001b[0m \u001b[0;34m=\u001b[0m \u001b[0;36m99\u001b[0m\u001b[0;34m\u001b[0m\u001b[0;34m\u001b[0m\u001b[0m\n\u001b[0m\u001b[1;32m     11\u001b[0m \u001b[0;34m\u001b[0m\u001b[0m\n\u001b[1;32m     12\u001b[0m \u001b[0mprint\u001b[0m\u001b[0;34m(\u001b[0m\u001b[0mmy_tuple\u001b[0m\u001b[0;34m)\u001b[0m\u001b[0;34m\u001b[0m\u001b[0;34m\u001b[0m\u001b[0m\n",
            "\u001b[0;31mTypeError\u001b[0m: 'tuple' object does not support item assignment"
          ]
        }
      ]
    },
    {
      "cell_type": "code",
      "source": [
        "#6. Write a function to demonstrate the behavior of mutable and immutable arguments.\n",
        "\n",
        "def modify_immutable(x):\n",
        "    x = x + 1\n",
        "    print(\"Inside function (immutable):\", x)\n",
        "\n",
        "def modify_mutable(lst):\n",
        "    lst.append(4)\n",
        "    print(\"Inside function (mutable):\", lst)\n",
        "\n",
        "# Immutable\n",
        "a = 10\n",
        "modify_immutable(a)\n",
        "print(\"Outside function (immutable):\", a)\n",
        "\n",
        "# Mutable\n",
        "b = [1, 2, 3]\n",
        "modify_mutable(b)\n",
        "print(\"Outside function (mutable):\", b)\n"
      ],
      "metadata": {
        "colab": {
          "base_uri": "https://localhost:8080/"
        },
        "id": "YlfdFDu4hndn",
        "outputId": "e0e3b1d6-37f2-450f-bc77-bf79533a6538"
      },
      "execution_count": 16,
      "outputs": [
        {
          "output_type": "stream",
          "name": "stdout",
          "text": [
            "Inside function (immutable): 11\n",
            "Outside function (immutable): 10\n",
            "Inside function (mutable): [1, 2, 3, 4]\n",
            "Outside function (mutable): [1, 2, 3, 4]\n"
          ]
        }
      ]
    },
    {
      "cell_type": "code",
      "source": [
        "#7. Write a program that performs basic arithmetic operations on two user-input numbers.\n",
        "\n",
        "num1 = float(input(\"Enter the first number: \"))\n",
        "num2 = float(input(\"Enter the second number: \"))\n",
        "\n",
        "print(\"Addition:\", num1 + num2)\n",
        "print(\"Subtraction:\", num1 - num2)\n",
        "print(\"Multiplication:\", num1 * num2)\n",
        "\n",
        "if num2 != 0:\n",
        "    print(\"Division:\", num1 / num2)\n",
        "else:\n",
        "    print(\"Division: Undefined (cannot divide by zero)\")\n"
      ],
      "metadata": {
        "colab": {
          "base_uri": "https://localhost:8080/"
        },
        "id": "cr4PJWEZjJPN",
        "outputId": "eced957f-dd0f-4f19-fd9e-bab86e53f780"
      },
      "execution_count": 17,
      "outputs": [
        {
          "output_type": "stream",
          "name": "stdout",
          "text": [
            "Enter the first number: 23\n",
            "Enter the second number: 22\n",
            "Addition: 45.0\n",
            "Subtraction: 1.0\n",
            "Multiplication: 506.0\n",
            "Division: 1.0454545454545454\n"
          ]
        }
      ]
    },
    {
      "cell_type": "code",
      "source": [
        "#8. Write a program to demonstrate the use of logical operators.\n",
        "\n",
        "a = True\n",
        "b = False\n",
        "\n",
        "print(\"a and b:\", a and b)  # Returns True if both a and b are True\n",
        "\n",
        "print(\"a or b:\", a or b)    # Returns True if either a or b is True\n",
        "\n",
        "print(\"not a:\", not a)      # Returns True if a is False\n",
        "print(\"not b:\", not b)      # Returns True if b is False\n"
      ],
      "metadata": {
        "colab": {
          "base_uri": "https://localhost:8080/"
        },
        "id": "n6JbR1-TkC4H",
        "outputId": "1d358318-9229-48be-c099-8a90bf3ceecc"
      },
      "execution_count": 18,
      "outputs": [
        {
          "output_type": "stream",
          "name": "stdout",
          "text": [
            "a and b: False\n",
            "a or b: True\n",
            "not a: False\n",
            "not b: True\n"
          ]
        }
      ]
    },
    {
      "cell_type": "code",
      "source": [
        "#9. Write a Python program to convert user input from string to integer, float, and boolean types.\n",
        "give = input(\"enter the something: \")\n",
        "number = give\n",
        "\n",
        "print(\"integer\",int(number))\n",
        "print(\"float\",float(number))\n",
        "\n",
        "bool_value = number.strip().lower() == 'true'\n",
        "print(\"Boolean\",bool_value)\n",
        "\n",
        "\n",
        "\n",
        "\n"
      ],
      "metadata": {
        "colab": {
          "base_uri": "https://localhost:8080/"
        },
        "id": "6GYNWSgrkWgf",
        "outputId": "60480464-079a-4b63-922f-0293310b0584"
      },
      "execution_count": 29,
      "outputs": [
        {
          "output_type": "stream",
          "name": "stdout",
          "text": [
            "enter the something: 23\n",
            "integer 23\n",
            "float 23.0\n",
            "Boolean False\n"
          ]
        }
      ]
    },
    {
      "cell_type": "code",
      "source": [
        "#10. Write code to demonstrate type casting with list elements.\n",
        "\n",
        "str_list = [\"10\", \"20.5\", \"True\", \"False\"]\n",
        "\n",
        "\n",
        "int_list = [int(x) for x in str_list if x.isdigit()]\n",
        "float_list = [float(x) for x in str_list if x.replace('.', '', 1).isdigit()]\n",
        "bool_list = [x.lower() == 'true' for x in str_list]\n",
        "\n",
        "print(\"Original list:\", str_list)\n",
        "print(\"Converted to integers:\", int_list)\n",
        "print(\"Converted to floats:\", float_list)\n",
        "print(\"Converted to booleans:\", bool_list)\n"
      ],
      "metadata": {
        "colab": {
          "base_uri": "https://localhost:8080/"
        },
        "id": "Wf_Uw62TpiCQ",
        "outputId": "98788162-0686-488d-9218-6a8117e6a0d3"
      },
      "execution_count": 30,
      "outputs": [
        {
          "output_type": "stream",
          "name": "stdout",
          "text": [
            "Original list: ['10', '20.5', 'True', 'False']\n",
            "Converted to integers: [10]\n",
            "Converted to floats: [10.0, 20.5]\n",
            "Converted to booleans: [False, False, True, False]\n"
          ]
        }
      ]
    },
    {
      "cell_type": "code",
      "source": [
        "#11. Write a program that checks if a number is positive, negative, or zero.\n",
        "\n",
        "num = float(input(\"Enter a number: \"))\n",
        "\n",
        "if num > 0:\n",
        "    print(\"Positive\")\n",
        "elif num < 0:\n",
        "    print(\"Negative\")\n",
        "else:\n",
        "    print(\"Zero\")\n"
      ],
      "metadata": {
        "colab": {
          "base_uri": "https://localhost:8080/"
        },
        "id": "P9EzxXKpqJ5U",
        "outputId": "f54697d3-fd27-4a13-d3b6-7924448709bd"
      },
      "execution_count": 31,
      "outputs": [
        {
          "output_type": "stream",
          "name": "stdout",
          "text": [
            "Enter a number: 20\n",
            "Positive\n"
          ]
        }
      ]
    },
    {
      "cell_type": "code",
      "source": [
        "# 12. Write a for loop to print numbers from 1 to 10\n",
        "for i in range(1, 11):\n",
        "    print(i)\n"
      ],
      "metadata": {
        "colab": {
          "base_uri": "https://localhost:8080/"
        },
        "id": "m96EvJVKqe8N",
        "outputId": "b47327c9-88cc-4730-f755-5559193a4fa2"
      },
      "execution_count": 32,
      "outputs": [
        {
          "output_type": "stream",
          "name": "stdout",
          "text": [
            "1\n",
            "2\n",
            "3\n",
            "4\n",
            "5\n",
            "6\n",
            "7\n",
            "8\n",
            "9\n",
            "10\n"
          ]
        }
      ]
    },
    {
      "cell_type": "code",
      "source": [
        "#13. Write a Python program to find the sum of all even numbers between 1 and 50.\n",
        "\n",
        "even_sum = 0\n",
        "\n",
        "for i in range(1, 51):\n",
        "    if i % 2 == 0:\n",
        "        even_sum += i\n",
        "\n",
        "print(\"Sum of even numbers between 1 and 50:\", even_sum)\n"
      ],
      "metadata": {
        "colab": {
          "base_uri": "https://localhost:8080/"
        },
        "id": "3MKoiMAWrBVI",
        "outputId": "fa9bba25-b394-42b4-beff-2fa0650407fd"
      },
      "execution_count": 33,
      "outputs": [
        {
          "output_type": "stream",
          "name": "stdout",
          "text": [
            "Sum of even numbers between 1 and 50: 650\n"
          ]
        }
      ]
    },
    {
      "cell_type": "code",
      "source": [
        "#14. Write a program to reverse a string using a while loop.\n",
        "\n",
        "original_string = input(\"Enter a string: \")\n",
        "\n",
        "reversed_string = \"\"\n",
        "\n",
        "index = len(original_string) - 1\n",
        "\n",
        "while index >= 0:\n",
        "    reversed_string += original_string[index]\n",
        "    index -= 1\n",
        "\n",
        "print(\"Reversed string:\", reversed_string)\n"
      ],
      "metadata": {
        "colab": {
          "base_uri": "https://localhost:8080/"
        },
        "id": "TVC6PL5jrQZv",
        "outputId": "2d12ba68-69d1-48af-e6ba-4f9c36d9de5a"
      },
      "execution_count": 34,
      "outputs": [
        {
          "output_type": "stream",
          "name": "stdout",
          "text": [
            "Enter a string: max\n",
            "Reversed string: xam\n"
          ]
        }
      ]
    },
    {
      "cell_type": "code",
      "source": [
        "#15. Write a Python program to calculate the factorial of a number provided by the user using a while loop.\n",
        "\n",
        "num = int(input(\"Enter a number: \"))\n",
        "\n",
        "factorial = 1\n",
        "i = 1\n",
        "\n",
        "while i <= num:\n",
        "    factorial *= i\n",
        "    i += 1\n",
        "\n",
        "print(f\"The factorial of {num} is {factorial}\")\n"
      ],
      "metadata": {
        "colab": {
          "base_uri": "https://localhost:8080/"
        },
        "id": "JZlWGs3Lrooz",
        "outputId": "59c6ae91-7736-451a-a5f0-a7e7d87ce24c"
      },
      "execution_count": 35,
      "outputs": [
        {
          "output_type": "stream",
          "name": "stdout",
          "text": [
            "Enter a number: 10\n",
            "The factorial of 10 is 3628800\n"
          ]
        }
      ]
    }
  ]
}